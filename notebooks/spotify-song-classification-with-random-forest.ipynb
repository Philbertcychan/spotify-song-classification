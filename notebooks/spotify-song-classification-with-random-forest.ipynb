{
 "cells": [
  {
   "cell_type": "markdown",
   "id": "2d988749",
   "metadata": {
    "papermill": {
     "duration": 0.00342,
     "end_time": "2025-05-27T19:21:11.157968",
     "exception": false,
     "start_time": "2025-05-27T19:21:11.154548",
     "status": "completed"
    },
    "tags": []
   },
   "source": [
    "## 🎧 Spotify Song Popularity Classification\n",
    "\n",
    "In this project, I built a machine learning model to classify whether a song is likely to be popular, using Spotify audio features. The dataset includes various acoustic characteristics like danceability, energy, and valence. The goal is to understand what makes a song popular and predict that based on its attributes.\n"
   ]
  },
  {
   "cell_type": "markdown",
   "id": "b662e4d8",
   "metadata": {
    "papermill": {
     "duration": 0.002564,
     "end_time": "2025-05-27T19:21:11.163687",
     "exception": false,
     "start_time": "2025-05-27T19:21:11.161123",
     "status": "completed"
    },
    "tags": []
   },
   "source": [
    "## 📦 Importing Libraries and Loading the Dataset\n",
    "\n",
    "Here, I import the necessary Python libraries and load the dataset.\n"
   ]
  },
  {
   "cell_type": "markdown",
   "id": "f24fc6b5",
   "metadata": {
    "papermill": {
     "duration": 0.002539,
     "end_time": "2025-05-27T19:21:11.168981",
     "exception": false,
     "start_time": "2025-05-27T19:21:11.166442",
     "status": "completed"
    },
    "tags": []
   },
   "source": [
    "## 🔍 Exploratory Data Analysis\n",
    "\n",
    "I examine the structure of the dataset, check for missing values, and review basic statistics to understand feature distributions and identify any data quality issues.\n"
   ]
  },
  {
   "cell_type": "code",
   "execution_count": 1,
   "id": "feaac26c",
   "metadata": {
    "_cell_guid": "b1076dfc-b9ad-4769-8c92-a6c4dae69d19",
    "_uuid": "8f2839f25d086af736a60e9eeb907d3b93b6e0e5",
    "execution": {
     "iopub.execute_input": "2025-05-27T19:21:11.175729Z",
     "iopub.status.busy": "2025-05-27T19:21:11.175405Z",
     "iopub.status.idle": "2025-05-27T19:21:13.105452Z",
     "shell.execute_reply": "2025-05-27T19:21:13.104401Z"
    },
    "papermill": {
     "duration": 1.935302,
     "end_time": "2025-05-27T19:21:13.107004",
     "exception": false,
     "start_time": "2025-05-27T19:21:11.171702",
     "status": "completed"
    },
    "tags": []
   },
   "outputs": [
    {
     "name": "stdout",
     "output_type": "stream",
     "text": [
      "Shape of dataset: (2017, 17)\n",
      "\n",
      "Data Info:\n",
      "<class 'pandas.core.frame.DataFrame'>\n",
      "RangeIndex: 2017 entries, 0 to 2016\n",
      "Data columns (total 17 columns):\n",
      " #   Column            Non-Null Count  Dtype  \n",
      "---  ------            --------------  -----  \n",
      " 0   Unnamed: 0        2017 non-null   int64  \n",
      " 1   acousticness      2017 non-null   float64\n",
      " 2   danceability      2017 non-null   float64\n",
      " 3   duration_ms       2017 non-null   int64  \n",
      " 4   energy            2017 non-null   float64\n",
      " 5   instrumentalness  2017 non-null   float64\n",
      " 6   key               2017 non-null   int64  \n",
      " 7   liveness          2017 non-null   float64\n",
      " 8   loudness          2017 non-null   float64\n",
      " 9   mode              2017 non-null   int64  \n",
      " 10  speechiness       2017 non-null   float64\n",
      " 11  tempo             2017 non-null   float64\n",
      " 12  time_signature    2017 non-null   float64\n",
      " 13  valence           2017 non-null   float64\n",
      " 14  target            2017 non-null   int64  \n",
      " 15  song_title        2017 non-null   object \n",
      " 16  artist            2017 non-null   object \n",
      "dtypes: float64(10), int64(5), object(2)\n",
      "memory usage: 268.0+ KB\n",
      "\n",
      "Summary Statistics:\n",
      "        Unnamed: 0  acousticness  danceability   duration_ms       energy  \\\n",
      "count  2017.000000   2017.000000   2017.000000  2.017000e+03  2017.000000   \n",
      "mean   1008.000000      0.187590      0.618422  2.463062e+05     0.681577   \n",
      "std     582.402066      0.259989      0.161029  8.198181e+04     0.210273   \n",
      "min       0.000000      0.000003      0.122000  1.604200e+04     0.014800   \n",
      "25%     504.000000      0.009630      0.514000  2.000150e+05     0.563000   \n",
      "50%    1008.000000      0.063300      0.631000  2.292610e+05     0.715000   \n",
      "75%    1512.000000      0.265000      0.738000  2.703330e+05     0.846000   \n",
      "max    2016.000000      0.995000      0.984000  1.004627e+06     0.998000   \n",
      "\n",
      "       instrumentalness          key     liveness     loudness         mode  \\\n",
      "count       2017.000000  2017.000000  2017.000000  2017.000000  2017.000000   \n",
      "mean           0.133286     5.342588     0.190844    -7.085624     0.612295   \n",
      "std            0.273162     3.648240     0.155453     3.761684     0.487347   \n",
      "min            0.000000     0.000000     0.018800   -33.097000     0.000000   \n",
      "25%            0.000000     2.000000     0.092300    -8.394000     0.000000   \n",
      "50%            0.000076     6.000000     0.127000    -6.248000     1.000000   \n",
      "75%            0.054000     9.000000     0.247000    -4.746000     1.000000   \n",
      "max            0.976000    11.000000     0.969000    -0.307000     1.000000   \n",
      "\n",
      "       speechiness        tempo  time_signature      valence       target  \n",
      "count  2017.000000  2017.000000     2017.000000  2017.000000  2017.000000  \n",
      "mean      0.092664   121.603272        3.968270     0.496815     0.505702  \n",
      "std       0.089931    26.685604        0.255853     0.247195     0.500091  \n",
      "min       0.023100    47.859000        1.000000     0.034800     0.000000  \n",
      "25%       0.037500   100.189000        4.000000     0.295000     0.000000  \n",
      "50%       0.054900   121.427000        4.000000     0.492000     1.000000  \n",
      "75%       0.108000   137.849000        4.000000     0.691000     1.000000  \n",
      "max       0.816000   219.331000        5.000000     0.992000     1.000000  \n",
      "\n",
      "Missing Values:\n",
      "Unnamed: 0          0\n",
      "acousticness        0\n",
      "danceability        0\n",
      "duration_ms         0\n",
      "energy              0\n",
      "instrumentalness    0\n",
      "key                 0\n",
      "liveness            0\n",
      "loudness            0\n",
      "mode                0\n",
      "speechiness         0\n",
      "tempo               0\n",
      "time_signature      0\n",
      "valence             0\n",
      "target              0\n",
      "song_title          0\n",
      "artist              0\n",
      "dtype: int64\n"
     ]
    }
   ],
   "source": [
    "# Load libraries\n",
    "import pandas as pd\n",
    "\n",
    "# Load data\n",
    "df = pd.read_csv('/kaggle/input/spotifyclassification/data.csv')\n",
    "\n",
    "# Dataset shape\n",
    "print(\"Shape of dataset:\", df.shape)\n",
    "\n",
    "# Data types and non-null counts\n",
    "print(\"\\nData Info:\")\n",
    "df.info()\n",
    "\n",
    "# Summary statistics for numerical columns\n",
    "print(\"\\nSummary Statistics:\")\n",
    "print(df.describe())\n",
    "\n",
    "# Null values check\n",
    "print(\"\\nMissing Values:\")\n",
    "print(df.isnull().sum())\n"
   ]
  },
  {
   "cell_type": "code",
   "execution_count": 2,
   "id": "be7b956a",
   "metadata": {
    "execution": {
     "iopub.execute_input": "2025-05-27T19:21:13.114631Z",
     "iopub.status.busy": "2025-05-27T19:21:13.114272Z",
     "iopub.status.idle": "2025-05-27T19:21:13.142262Z",
     "shell.execute_reply": "2025-05-27T19:21:13.141402Z"
    },
    "papermill": {
     "duration": 0.033569,
     "end_time": "2025-05-27T19:21:13.143819",
     "exception": false,
     "start_time": "2025-05-27T19:21:13.110250",
     "status": "completed"
    },
    "tags": []
   },
   "outputs": [
    {
     "data": {
      "text/html": [
       "<div>\n",
       "<style scoped>\n",
       "    .dataframe tbody tr th:only-of-type {\n",
       "        vertical-align: middle;\n",
       "    }\n",
       "\n",
       "    .dataframe tbody tr th {\n",
       "        vertical-align: top;\n",
       "    }\n",
       "\n",
       "    .dataframe thead th {\n",
       "        text-align: right;\n",
       "    }\n",
       "</style>\n",
       "<table border=\"1\" class=\"dataframe\">\n",
       "  <thead>\n",
       "    <tr style=\"text-align: right;\">\n",
       "      <th></th>\n",
       "      <th>acousticness</th>\n",
       "      <th>danceability</th>\n",
       "      <th>duration_ms</th>\n",
       "      <th>energy</th>\n",
       "      <th>instrumentalness</th>\n",
       "      <th>key</th>\n",
       "      <th>liveness</th>\n",
       "      <th>loudness</th>\n",
       "      <th>mode</th>\n",
       "      <th>speechiness</th>\n",
       "      <th>tempo</th>\n",
       "      <th>time_signature</th>\n",
       "      <th>valence</th>\n",
       "      <th>target</th>\n",
       "    </tr>\n",
       "  </thead>\n",
       "  <tbody>\n",
       "    <tr>\n",
       "      <th>0</th>\n",
       "      <td>0.0102</td>\n",
       "      <td>0.833</td>\n",
       "      <td>204600</td>\n",
       "      <td>0.434</td>\n",
       "      <td>0.021900</td>\n",
       "      <td>2</td>\n",
       "      <td>0.1650</td>\n",
       "      <td>-8.795</td>\n",
       "      <td>1</td>\n",
       "      <td>0.4310</td>\n",
       "      <td>150.062</td>\n",
       "      <td>4.0</td>\n",
       "      <td>0.286</td>\n",
       "      <td>1</td>\n",
       "    </tr>\n",
       "    <tr>\n",
       "      <th>1</th>\n",
       "      <td>0.1990</td>\n",
       "      <td>0.743</td>\n",
       "      <td>326933</td>\n",
       "      <td>0.359</td>\n",
       "      <td>0.006110</td>\n",
       "      <td>1</td>\n",
       "      <td>0.1370</td>\n",
       "      <td>-10.401</td>\n",
       "      <td>1</td>\n",
       "      <td>0.0794</td>\n",
       "      <td>160.083</td>\n",
       "      <td>4.0</td>\n",
       "      <td>0.588</td>\n",
       "      <td>1</td>\n",
       "    </tr>\n",
       "    <tr>\n",
       "      <th>2</th>\n",
       "      <td>0.0344</td>\n",
       "      <td>0.838</td>\n",
       "      <td>185707</td>\n",
       "      <td>0.412</td>\n",
       "      <td>0.000234</td>\n",
       "      <td>2</td>\n",
       "      <td>0.1590</td>\n",
       "      <td>-7.148</td>\n",
       "      <td>1</td>\n",
       "      <td>0.2890</td>\n",
       "      <td>75.044</td>\n",
       "      <td>4.0</td>\n",
       "      <td>0.173</td>\n",
       "      <td>1</td>\n",
       "    </tr>\n",
       "    <tr>\n",
       "      <th>3</th>\n",
       "      <td>0.6040</td>\n",
       "      <td>0.494</td>\n",
       "      <td>199413</td>\n",
       "      <td>0.338</td>\n",
       "      <td>0.510000</td>\n",
       "      <td>5</td>\n",
       "      <td>0.0922</td>\n",
       "      <td>-15.236</td>\n",
       "      <td>1</td>\n",
       "      <td>0.0261</td>\n",
       "      <td>86.468</td>\n",
       "      <td>4.0</td>\n",
       "      <td>0.230</td>\n",
       "      <td>1</td>\n",
       "    </tr>\n",
       "    <tr>\n",
       "      <th>4</th>\n",
       "      <td>0.1800</td>\n",
       "      <td>0.678</td>\n",
       "      <td>392893</td>\n",
       "      <td>0.561</td>\n",
       "      <td>0.512000</td>\n",
       "      <td>5</td>\n",
       "      <td>0.4390</td>\n",
       "      <td>-11.648</td>\n",
       "      <td>0</td>\n",
       "      <td>0.0694</td>\n",
       "      <td>174.004</td>\n",
       "      <td>4.0</td>\n",
       "      <td>0.904</td>\n",
       "      <td>1</td>\n",
       "    </tr>\n",
       "  </tbody>\n",
       "</table>\n",
       "</div>"
      ],
      "text/plain": [
       "   acousticness  danceability  duration_ms  energy  instrumentalness  key  \\\n",
       "0        0.0102         0.833       204600   0.434          0.021900    2   \n",
       "1        0.1990         0.743       326933   0.359          0.006110    1   \n",
       "2        0.0344         0.838       185707   0.412          0.000234    2   \n",
       "3        0.6040         0.494       199413   0.338          0.510000    5   \n",
       "4        0.1800         0.678       392893   0.561          0.512000    5   \n",
       "\n",
       "   liveness  loudness  mode  speechiness    tempo  time_signature  valence  \\\n",
       "0    0.1650    -8.795     1       0.4310  150.062             4.0    0.286   \n",
       "1    0.1370   -10.401     1       0.0794  160.083             4.0    0.588   \n",
       "2    0.1590    -7.148     1       0.2890   75.044             4.0    0.173   \n",
       "3    0.0922   -15.236     1       0.0261   86.468             4.0    0.230   \n",
       "4    0.4390   -11.648     0       0.0694  174.004             4.0    0.904   \n",
       "\n",
       "   target  \n",
       "0       1  \n",
       "1       1  \n",
       "2       1  \n",
       "3       1  \n",
       "4       1  "
      ]
     },
     "execution_count": 2,
     "metadata": {},
     "output_type": "execute_result"
    }
   ],
   "source": [
    "df = df.drop(['Unnamed: 0', 'song_title', 'artist'], axis=1)\n",
    "df.head()"
   ]
  },
  {
   "cell_type": "code",
   "execution_count": 3,
   "id": "378df054",
   "metadata": {
    "execution": {
     "iopub.execute_input": "2025-05-27T19:21:13.152011Z",
     "iopub.status.busy": "2025-05-27T19:21:13.151698Z",
     "iopub.status.idle": "2025-05-27T19:21:15.215970Z",
     "shell.execute_reply": "2025-05-27T19:21:15.214944Z"
    },
    "papermill": {
     "duration": 2.070417,
     "end_time": "2025-05-27T19:21:15.217802",
     "exception": false,
     "start_time": "2025-05-27T19:21:13.147385",
     "status": "completed"
    },
    "tags": []
   },
   "outputs": [
    {
     "data": {
      "image/png": "[encoded data removed]",
      "text/plain": [
       "<Figure size 640x480 with 1 Axes>"
      ]
     },
     "metadata": {},
     "output_type": "display_data"
    }
   ],
   "source": [
    "import seaborn as sns\n",
    "import matplotlib.pyplot as plt\n",
    "\n",
    "# Plot the distribution of the target variable\n",
    "sns.countplot(data=df, x='target')\n",
    "plt.title(\"Distribution of Hit vs Non-Hit Songs\")\n",
    "plt.xlabel(\"Hit (1) or Not (0)\")\n",
    "plt.ylabel(\"Count\")\n",
    "plt.show()"
   ]
  },
  {
   "cell_type": "markdown",
   "id": "e1f4b6e8",
   "metadata": {
    "papermill": {
     "duration": 0.003441,
     "end_time": "2025-05-27T19:21:15.225447",
     "exception": false,
     "start_time": "2025-05-27T19:21:15.222006",
     "status": "completed"
    },
    "tags": []
   },
   "source": [
    "## 🛠️ Data Cleaning and Preprocessing\n",
    "\n",
    "- Dropped unnecessary columns (like `Unnamed: 0`)\n",
    "- Split the data into features (X) and target (y)\n",
    "- Scaled the features using StandardScaler\n",
    "- Split into train and test sets\n"
   ]
  },
  {
   "cell_type": "code",
   "execution_count": 4,
   "id": "8589a67a",
   "metadata": {
    "execution": {
     "iopub.execute_input": "2025-05-27T19:21:15.234023Z",
     "iopub.status.busy": "2025-05-27T19:21:15.233551Z",
     "iopub.status.idle": "2025-05-27T19:21:15.638416Z",
     "shell.execute_reply": "2025-05-27T19:21:15.637391Z"
    },
    "papermill": {
     "duration": 0.411072,
     "end_time": "2025-05-27T19:21:15.640072",
     "exception": false,
     "start_time": "2025-05-27T19:21:15.229000",
     "status": "completed"
    },
    "tags": []
   },
   "outputs": [],
   "source": [
    "from sklearn.model_selection import train_test_split\n",
    "from sklearn.preprocessing import StandardScaler\n",
    "\n",
    "# Split into features and target\n",
    "X = df.drop('target', axis=1)\n",
    "y = df['target']\n",
    "\n",
    "# Train-test split\n",
    "X_train, X_test, y_train, y_test = train_test_split(X, y, test_size=0.2, random_state=42)\n",
    "\n",
    "# Scale the features\n",
    "scaler = StandardScaler()\n",
    "X_train_scaled = scaler.fit_transform(X_train)\n",
    "X_test_scaled = scaler.transform(X_test)"
   ]
  },
  {
   "cell_type": "code",
   "execution_count": 5,
   "id": "c1c78ca4",
   "metadata": {
    "execution": {
     "iopub.execute_input": "2025-05-27T19:21:15.648821Z",
     "iopub.status.busy": "2025-05-27T19:21:15.648478Z",
     "iopub.status.idle": "2025-05-27T19:21:15.803900Z",
     "shell.execute_reply": "2025-05-27T19:21:15.803114Z"
    },
    "papermill": {
     "duration": 0.161852,
     "end_time": "2025-05-27T19:21:15.805820",
     "exception": false,
     "start_time": "2025-05-27T19:21:15.643968",
     "status": "completed"
    },
    "tags": []
   },
   "outputs": [
    {
     "name": "stdout",
     "output_type": "stream",
     "text": [
      "Confusion Matrix:\n",
      "[[134  72]\n",
      " [ 69 129]]\n",
      "\n",
      "Classification Report:\n",
      "              precision    recall  f1-score   support\n",
      "\n",
      "           0       0.66      0.65      0.66       206\n",
      "           1       0.64      0.65      0.65       198\n",
      "\n",
      "    accuracy                           0.65       404\n",
      "   macro avg       0.65      0.65      0.65       404\n",
      "weighted avg       0.65      0.65      0.65       404\n",
      "\n"
     ]
    }
   ],
   "source": [
    "from sklearn.linear_model import LogisticRegression\n",
    "from sklearn.metrics import classification_report, confusion_matrix\n",
    "\n",
    "# Train logistic regression\n",
    "logreg = LogisticRegression(max_iter=1000)\n",
    "logreg.fit(X_train_scaled, y_train)\n",
    "\n",
    "# Predict\n",
    "y_pred = logreg.predict(X_test_scaled)\n",
    "\n",
    "# Evaluation\n",
    "print(\"Confusion Matrix:\")\n",
    "print(confusion_matrix(y_test, y_pred))\n",
    "print(\"\\nClassification Report:\")\n",
    "print(classification_report(y_test, y_pred))\n"
   ]
  },
  {
   "cell_type": "markdown",
   "id": "5f77a0ea",
   "metadata": {
    "papermill": {
     "duration": 0.005637,
     "end_time": "2025-05-27T19:21:15.817303",
     "exception": false,
     "start_time": "2025-05-27T19:21:15.811666",
     "status": "completed"
    },
    "tags": []
   },
   "source": [
    "## 🧠 Model Training with Random Forest\n",
    "\n",
    "I train a Random Forest classifier and evaluate it using accuracy, precision, recall, and F1 score.\n"
   ]
  },
  {
   "cell_type": "code",
   "execution_count": 6,
   "id": "b9d44632",
   "metadata": {
    "execution": {
     "iopub.execute_input": "2025-05-27T19:21:15.833380Z",
     "iopub.status.busy": "2025-05-27T19:21:15.832706Z",
     "iopub.status.idle": "2025-05-27T19:21:16.601100Z",
     "shell.execute_reply": "2025-05-27T19:21:16.600039Z"
    },
    "papermill": {
     "duration": 0.779571,
     "end_time": "2025-05-27T19:21:16.602688",
     "exception": false,
     "start_time": "2025-05-27T19:21:15.823117",
     "status": "completed"
    },
    "tags": []
   },
   "outputs": [
    {
     "name": "stdout",
     "output_type": "stream",
     "text": [
      "Confusion Matrix:\n",
      "[[156  50]\n",
      " [ 45 153]]\n",
      "\n",
      "Classification Report:\n",
      "              precision    recall  f1-score   support\n",
      "\n",
      "           0       0.78      0.76      0.77       206\n",
      "           1       0.75      0.77      0.76       198\n",
      "\n",
      "    accuracy                           0.76       404\n",
      "   macro avg       0.76      0.77      0.76       404\n",
      "weighted avg       0.77      0.76      0.76       404\n",
      "\n"
     ]
    }
   ],
   "source": [
    "from sklearn.ensemble import RandomForestClassifier\n",
    "\n",
    "# Train Random Forest\n",
    "rf = RandomForestClassifier(n_estimators=100, random_state=42)\n",
    "rf.fit(X_train_scaled, y_train)\n",
    "\n",
    "# Predict\n",
    "y_pred_rf = rf.predict(X_test_scaled)\n",
    "\n",
    "# Evaluate\n",
    "print(\"Confusion Matrix:\")\n",
    "print(confusion_matrix(y_test, y_pred_rf))\n",
    "print(\"\\nClassification Report:\")\n",
    "print(classification_report(y_test, y_pred_rf))\n"
   ]
  },
  {
   "cell_type": "markdown",
   "id": "6c456973",
   "metadata": {
    "papermill": {
     "duration": 0.003484,
     "end_time": "2025-05-27T19:21:16.610125",
     "exception": false,
     "start_time": "2025-05-27T19:21:16.606641",
     "status": "completed"
    },
    "tags": []
   },
   "source": [
    "## 📈 Model Performance\n",
    "\n",
    "The confusion matrix and classification report are used to assess how well the model performs on the test set.\n"
   ]
  },
  {
   "cell_type": "markdown",
   "id": "1dd6d0ef",
   "metadata": {
    "papermill": {
     "duration": 0.003481,
     "end_time": "2025-05-27T19:21:16.617352",
     "exception": false,
     "start_time": "2025-05-27T19:21:16.613871",
     "status": "completed"
    },
    "tags": []
   },
   "source": [
    "### Feature Importance\n",
    "\n",
    "The chart below shows which features most influenced the model's predictions. This helps explain the \"why\" behind the model output, which is useful for both product insights and stakeholder communication."
   ]
  },
  {
   "cell_type": "code",
   "execution_count": 7,
   "id": "8266fcb9",
   "metadata": {
    "execution": {
     "iopub.execute_input": "2025-05-27T19:21:16.626633Z",
     "iopub.status.busy": "2025-05-27T19:21:16.626282Z",
     "iopub.status.idle": "2025-05-27T19:21:16.905499Z",
     "shell.execute_reply": "2025-05-27T19:21:16.904689Z"
    },
    "papermill": {
     "duration": 0.285776,
     "end_time": "2025-05-27T19:21:16.907163",
     "exception": false,
     "start_time": "2025-05-27T19:21:16.621387",
     "status": "completed"
    },
    "tags": []
   },
   "outputs": [
    {
     "data": {
      "image/png": "[encoded data removed]",
      "text/plain": [
       "<Figure size 1000x600 with 1 Axes>"
      ]
     },
     "metadata": {},
     "output_type": "display_data"
    }
   ],
   "source": [
    "import matplotlib.pyplot as plt\n",
    "import seaborn as sns\n",
    "\n",
    "# Get feature importances\n",
    "importances = rf.feature_importances_\n",
    "features = X.columns\n",
    "\n",
    "# Create a DataFrame\n",
    "feat_importance_df = pd.DataFrame({\n",
    "    'Feature': features,\n",
    "    'Importance': importances\n",
    "}).sort_values(by='Importance', ascending=False)\n",
    "\n",
    "# Plot\n",
    "plt.figure(figsize=(10, 6))\n",
    "sns.barplot(x='Importance', y='Feature', data=feat_importance_df)\n",
    "plt.title('Feature Importance from Random Forest')\n",
    "plt.tight_layout()\n",
    "plt.show()\n"
   ]
  },
  {
   "cell_type": "markdown",
   "id": "8affe948",
   "metadata": {
    "papermill": {
     "duration": 0.004307,
     "end_time": "2025-05-27T19:21:16.916405",
     "exception": false,
     "start_time": "2025-05-27T19:21:16.912098",
     "status": "completed"
    },
    "tags": []
   },
   "source": [
    "## ✅ Conclusion\n",
    "\n",
    "In this project, I analyzed over 2,000 Spotify tracks to understand which audio features best predict whether a song is likely to be popular. Using a Random Forest Classifier, I achieved an accuracy of ~76%, with strong performance across both precision and recall.\n",
    "\n",
    "The most important features for prediction included:\n",
    "- **Danceability**\n",
    "- **Energy**\n",
    "- **Valence**\n",
    "- **Acousticness**\n",
    "\n",
    "These traits align with the intuitive qualities of catchy, energetic, and emotionally resonant music. This analysis could inform strategies in playlist curation, music marketing, or even AI-generated music production.\n",
    "\n",
    "📈 Next Steps:\n",
    "- Tune hyperparameters for improved model performance\n",
    "- Explore SHAP values for deeper model interpretability\n",
    "- Build a Streamlit app for interactive prediction\n"
   ]
  }
 ],
 "metadata": {
  "kaggle": {
   "accelerator": "none",
   "dataSources": [
    {
     "datasetId": 1833,
     "sourceId": 3172,
     "sourceType": "datasetVersion"
    }
   ],
   "dockerImageVersionId": 31040,
   "isGpuEnabled": false,
   "isInternetEnabled": true,
   "language": "python",
   "sourceType": "notebook"
  },
  "kernelspec": {
   "display_name": "Python 3",
   "language": "python",
   "name": "python3"
  },
  "language_info": {
   "codemirror_mode": {
    "name": "ipython",
    "version": 3
   },
   "file_extension": ".py",
   "mimetype": "text/x-python",
   "name": "python",
   "nbconvert_exporter": "python",
   "pygments_lexer": "ipython3",
   "version": "3.11.11"
  },
  "papermill": {
   "default_parameters": {},
   "duration": 11.215189,
   "end_time": "2025-05-27T19:21:17.640080",
   "environment_variables": {},
   "exception": null,
   "input_path": "__notebook__.ipynb",
   "output_path": "__notebook__.ipynb",
   "parameters": {},
   "start_time": "2025-05-27T19:21:06.424891",
   "version": "2.6.0"
  }
 },
 "nbformat": 4,
 "nbformat_minor": 5
}
